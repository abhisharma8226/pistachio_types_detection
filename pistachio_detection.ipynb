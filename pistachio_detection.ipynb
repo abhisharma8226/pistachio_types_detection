{
  "cells": [
    {
      "cell_type": "code",
      "execution_count": null,
      "metadata": {
        "execution": {
          "iopub.execute_input": "2022-04-20T10:51:24.843756Z",
          "iopub.status.busy": "2022-04-20T10:51:24.842866Z",
          "iopub.status.idle": "2022-04-20T10:51:30.763436Z",
          "shell.execute_reply": "2022-04-20T10:51:30.762714Z",
          "shell.execute_reply.started": "2022-04-20T10:51:24.843716Z"
        },
        "id": "U25v2sM1dxjr",
        "trusted": true
      },
      "outputs": [],
      "source": [
        "import pandas as pd\n",
        "import numpy as np\n",
        "import tensorflow as tf\n",
        "import matplotlib.pyplot as plt\n",
        "import matplotlib.image as mpimg\n",
        "import seaborn as sns\n",
        "import pathlib\n",
        "import random\n",
        "import os\n",
        "import splitfolders\n",
        "from tensorflow.keras.preprocessing.image import ImageDataGenerator\n",
        "from tensorflow.keras.preprocessing import image_dataset_from_directory\n",
        "from tensorflow.keras.layers.experimental import preprocessing\n",
        "from tensorflow.keras.applications.vgg16 import VGG16\n",
        "from tensorflow.keras.optimizers import SGD, RMSprop, Adam, Adagrad, Adadelta\n",
        "from sklearn.metrics import accuracy_score, precision_score, recall_score, f1_score, cohen_kappa_score, roc_auc_score, confusion_matrix\n",
        "from sklearn.metrics import classification_report\n",
        "from keras.layers import Dense, Dropout, Activation, Flatten, BatchNormalization, Conv2D, MaxPool2D, MaxPooling2D\n",
        "from tensorflow.keras.callbacks import ReduceLROnPlateau, ModelCheckpoint, EarlyStopping\n",
        "from tensorflow.keras import Model\n",
        "from tensorflow.keras.layers import Dense, GlobalAveragePooling2D\n",
        "\n",
        "#Suppressing Warnings\n",
        "os.environ['TF_CPP_MIN_LOG_LEVEL'] = '2'"
      ]
    },
    {
      "cell_type": "code",
      "execution_count": null,
      "metadata": {
        "execution": {
          "iopub.execute_input": "2022-04-20T10:51:30.764947Z",
          "iopub.status.busy": "2022-04-20T10:51:30.764690Z",
          "iopub.status.idle": "2022-04-20T10:51:30.772333Z",
          "shell.execute_reply": "2022-04-20T10:51:30.770525Z",
          "shell.execute_reply.started": "2022-04-20T10:51:30.764913Z"
        },
        "id": "HuN_l9GQdxjs",
        "trusted": true
      },
      "outputs": [],
      "source": [
        "data_dir = \"../input/pistachio-image-dataset/Pistachio_Image_Dataset/Pistachio_Image_Dataset/\""
      ]
    },
    {
      "cell_type": "code",
      "execution_count": null,
      "metadata": {
        "execution": {
          "iopub.execute_input": "2022-04-20T10:51:30.775985Z",
          "iopub.status.busy": "2022-04-20T10:51:30.775675Z",
          "iopub.status.idle": "2022-04-20T10:51:41.578786Z",
          "shell.execute_reply": "2022-04-20T10:51:41.578085Z",
          "shell.execute_reply.started": "2022-04-20T10:51:30.775950Z"
        },
        "id": "lUEJUkQJdxjs",
        "outputId": "76540764-3bfd-49f5-d9f8-aa1d5fbb694e",
        "trusted": true
      },
      "outputs": [
        {
          "name": "stderr",
          "output_type": "stream",
          "text": [
            "Copying files: 2148 files [00:10, 199.26 files/s]\n"
          ]
        }
      ],
      "source": [
        "splitfolders.ratio(data_dir, output=\"output\", seed=101, ratio=(.8, .1, .1))"
      ]
    },
    {
      "cell_type": "code",
      "execution_count": null,
      "metadata": {
        "execution": {
          "iopub.execute_input": "2022-04-20T10:51:41.580354Z",
          "iopub.status.busy": "2022-04-20T10:51:41.580099Z",
          "iopub.status.idle": "2022-04-20T10:51:41.583942Z",
          "shell.execute_reply": "2022-04-20T10:51:41.583291Z",
          "shell.execute_reply.started": "2022-04-20T10:51:41.580320Z"
        },
        "id": "6--n8_0Edxjs",
        "trusted": true
      },
      "outputs": [],
      "source": [
        "train_path = './output/train'\n",
        "test_path = './output/test'\n",
        "val_path = './output/val'"
      ]
    },
    {
      "cell_type": "markdown",
      "metadata": {
        "id": "7gcaJaaKdxjs"
      },
      "source": [
        "Notice the path I've passed for images.\n",
        "Here I am displaying the size of the original images to see if resizing is required or not."
      ]
    },
    {
      "cell_type": "code",
      "execution_count": null,
      "metadata": {
        "execution": {
          "iopub.execute_input": "2022-04-20T10:51:41.585557Z",
          "iopub.status.busy": "2022-04-20T10:51:41.585128Z",
          "iopub.status.idle": "2022-04-20T10:51:41.629167Z",
          "shell.execute_reply": "2022-04-20T10:51:41.628540Z",
          "shell.execute_reply.started": "2022-04-20T10:51:41.585520Z"
        },
        "id": "SRUWZScLdxjt",
        "trusted": true
      },
      "outputs": [],
      "source": [
        "img = mpimg.imread('./output/train/Kirmizi_Pistachio/kirmizi 62.jpg')\n",
        "img1 = mpimg.imread('./output/train/Siirt_Pistachio/siirt 603.jpg')"
      ]
    },
    {
      "cell_type": "code",
      "execution_count": null,
      "metadata": {
        "execution": {
          "iopub.execute_input": "2022-04-20T10:51:41.630516Z",
          "iopub.status.busy": "2022-04-20T10:51:41.630270Z",
          "iopub.status.idle": "2022-04-20T10:51:41.638414Z",
          "shell.execute_reply": "2022-04-20T10:51:41.637365Z",
          "shell.execute_reply.started": "2022-04-20T10:51:41.630482Z"
        },
        "id": "E4pFUUUpdxjt",
        "outputId": "8efb68ed-26bf-4bd5-c79c-a0a5891a1265",
        "trusted": true
      },
      "outputs": [
        {
          "data": {
            "text/plain": [
              "((600, 600, 3), (600, 600, 3))"
            ]
          },
          "execution_count": 7,
          "metadata": {},
          "output_type": "execute_result"
        }
      ],
      "source": [
        "img.shape, img1.shape"
      ]
    },
    {
      "cell_type": "code",
      "execution_count": null,
      "metadata": {
        "execution": {
          "iopub.execute_input": "2022-04-20T10:51:41.640476Z",
          "iopub.status.busy": "2022-04-20T10:51:41.639913Z",
          "iopub.status.idle": "2022-04-20T10:51:41.645835Z",
          "shell.execute_reply": "2022-04-20T10:51:41.644862Z",
          "shell.execute_reply.started": "2022-04-20T10:51:41.640356Z"
        },
        "id": "uRu4CwTPdxjt",
        "trusted": true
      },
      "outputs": [],
      "source": [
        "img_size = 512\n",
        "batch = 16"
      ]
    },
    {
      "cell_type": "code",
      "execution_count": null,
      "metadata": {
        "execution": {
          "iopub.execute_input": "2022-04-20T10:51:41.647845Z",
          "iopub.status.busy": "2022-04-20T10:51:41.647449Z",
          "iopub.status.idle": "2022-04-20T10:51:41.653776Z",
          "shell.execute_reply": "2022-04-20T10:51:41.652795Z",
          "shell.execute_reply.started": "2022-04-20T10:51:41.647809Z"
        },
        "id": "jJGoFmkZdxjt",
        "trusted": true
      },
      "outputs": [],
      "source": [
        "labels = []\n",
        "for i in os.listdir(train_path):\n",
        "    labels+=[i]"
      ]
    },
    {
      "cell_type": "code",
      "execution_count": null,
      "metadata": {
        "execution": {
          "iopub.execute_input": "2022-04-20T10:51:41.658033Z",
          "iopub.status.busy": "2022-04-20T10:51:41.657834Z",
          "iopub.status.idle": "2022-04-20T10:51:41.665694Z",
          "shell.execute_reply": "2022-04-20T10:51:41.665043Z",
          "shell.execute_reply.started": "2022-04-20T10:51:41.658011Z"
        },
        "id": "pgzR51Bkdxjt",
        "outputId": "67a6e417-c298-4d63-e138-fcf3813c1c03",
        "trusted": true
      },
      "outputs": [
        {
          "data": {
            "text/plain": [
              "['Siirt_Pistachio', 'Kirmizi_Pistachio']"
            ]
          },
          "execution_count": 10,
          "metadata": {},
          "output_type": "execute_result"
        }
      ],
      "source": [
        "labels"
      ]
    },
    {
      "cell_type": "code",
      "execution_count": null,
      "metadata": {
        "execution": {
          "iopub.execute_input": "2022-04-20T10:51:41.667323Z",
          "iopub.status.busy": "2022-04-20T10:51:41.666992Z",
          "iopub.status.idle": "2022-04-20T10:51:41.674139Z",
          "shell.execute_reply": "2022-04-20T10:51:41.673161Z",
          "shell.execute_reply.started": "2022-04-20T10:51:41.667288Z"
        },
        "id": "vUbhcqoGdxju",
        "trusted": true
      },
      "outputs": [],
      "source": [
        "def load_random_imgs_from_folder(folder,label):\n",
        "  plt.figure(figsize=(15,15))\n",
        "  for i in range(3):\n",
        "    file = random.choice(os.listdir(folder))\n",
        "    image_path = os.path.join(folder, file)\n",
        "    img=mpimg.imread(image_path)\n",
        "    ax=plt.subplot(1,3,i+1)\n",
        "    ax.title.set_text(label)\n",
        "    plt.xlabel(f'Name: {file}')\n",
        "    plt.imshow(img)"
      ]
    },
    {
      "cell_type": "code",
      "execution_count": null,
      "metadata": {
        "execution": {
          "iopub.execute_input": "2022-04-20T10:51:41.675809Z",
          "iopub.status.busy": "2022-04-20T10:51:41.675550Z",
          "iopub.status.idle": "2022-04-20T10:51:42.832536Z",
          "shell.execute_reply": "2022-04-20T10:51:42.831847Z",
          "shell.execute_reply.started": "2022-04-20T10:51:41.675766Z"
        },
        "id": "9w6dd2THdxju",
        "outputId": "bb7dd886-54f7-4628-cd88-0d8559e54f02",
        "trusted": true
      },
      "outputs": [],
      "source": [
        "for label in labels:\n",
        "    load_random_imgs_from_folder(f\"{data_dir}/{label}\",label)"
      ]
    },
    {
      "cell_type": "code",
      "execution_count": null,
      "metadata": {
        "execution": {
          "iopub.execute_input": "2022-04-20T10:51:42.834093Z",
          "iopub.status.busy": "2022-04-20T10:51:42.833726Z",
          "iopub.status.idle": "2022-04-20T10:51:42.839960Z",
          "shell.execute_reply": "2022-04-20T10:51:42.839311Z",
          "shell.execute_reply.started": "2022-04-20T10:51:42.834058Z"
        },
        "id": "z7wLMGtxdxju",
        "trusted": true
      },
      "outputs": [],
      "source": [
        "train_datagen = ImageDataGenerator(rescale = 1.0/255.0,\n",
        "                                   rotation_range = 0.5,\n",
        "                                   width_shift_range = 0.2,\n",
        "                                   height_shift_range = 0.2,\n",
        "                                   shear_range = 0.2,\n",
        "                                   zoom_range = 0.1,\n",
        "                                   horizontal_flip = True,\n",
        "                                   fill_mode = 'nearest'\n",
        "                                  )\n",
        "\n",
        "test_val_datagen = ImageDataGenerator(rescale = 1.0/255.0)"
      ]
    },
    {
      "cell_type": "code",
      "execution_count": null,
      "metadata": {
        "execution": {
          "iopub.execute_input": "2022-04-20T10:51:42.841635Z",
          "iopub.status.busy": "2022-04-20T10:51:42.841327Z",
          "iopub.status.idle": "2022-04-20T10:51:43.158369Z",
          "shell.execute_reply": "2022-04-20T10:51:43.157719Z",
          "shell.execute_reply.started": "2022-04-20T10:51:42.841578Z"
        },
        "id": "3GNr5uFidxju",
        "outputId": "d86d2d78-c21f-45b7-bff1-1e6171b1b2aa",
        "trusted": true
      },
      "outputs": [],
      "source": [
        "train_generator = train_datagen.flow_from_directory(directory = train_path,\n",
        "                                                    batch_size = batch,\n",
        "                                                    class_mode = \"categorical\",\n",
        "                                                    target_size = (img_size,img_size)\n",
        "                                                    )\n",
        "\n",
        "val_generator = test_val_datagen.flow_from_directory(directory = val_path,\n",
        "                                                    batch_size = batch,\n",
        "                                                    class_mode = \"categorical\",\n",
        "                                                    target_size = (img_size,img_size)\n",
        "                                                    )\n",
        "\n",
        "test_generator = test_val_datagen.flow_from_directory(directory = test_path,\n",
        "                                                    batch_size = batch,\n",
        "                                                    class_mode = \"categorical\",\n",
        "                                                    target_size = (img_size,img_size)\n",
        "                                                    )"
      ]
    },
    {
      "cell_type": "code",
      "execution_count": null,
      "metadata": {
        "execution": {
          "iopub.execute_input": "2022-04-20T10:51:43.161309Z",
          "iopub.status.busy": "2022-04-20T10:51:43.161114Z",
          "iopub.status.idle": "2022-04-20T10:51:45.656074Z",
          "shell.execute_reply": "2022-04-20T10:51:45.654709Z",
          "shell.execute_reply.started": "2022-04-20T10:51:43.161285Z"
        },
        "id": "VHVvlFdmdxju",
        "outputId": "2faa2ac7-30b3-437b-a89e-40f48544f20d",
        "trusted": true
      },
      "outputs": [],
      "source": [
        "data_train = image_dataset_from_directory(\n",
        "    data_dir,\n",
        "    label_mode='categorical',\n",
        "    validation_split=0.2,\n",
        "    subset=\"training\",\n",
        "    seed=0,\n",
        "    color_mode=\"rgb\",\n",
        "    image_size=(img_size,img_size),\n",
        "    batch_size=32,\n",
        ")\n",
        "data_test = image_dataset_from_directory(\n",
        "    data_dir,\n",
        "    validation_split=0.2,\n",
        "    subset=\"validation\",\n",
        "    label_mode='categorical',\n",
        "    seed=0,\n",
        "    color_mode=\"rgb\",\n",
        "    image_size=(img_size,img_size),\n",
        "    batch_size=32,\n",
        ")"
      ]
    },
    {
      "cell_type": "code",
      "execution_count": null,
      "metadata": {
        "execution": {
          "iopub.execute_input": "2022-04-20T10:51:45.657658Z",
          "iopub.status.busy": "2022-04-20T10:51:45.657416Z",
          "iopub.status.idle": "2022-04-20T10:51:45.662024Z",
          "shell.execute_reply": "2022-04-20T10:51:45.661221Z",
          "shell.execute_reply.started": "2022-04-20T10:51:45.657622Z"
        },
        "id": "G_7el-ljdxju",
        "trusted": true
      },
      "outputs": [],
      "source": [
        "# # small train dataset with BATCH_SIZE*SMALL_DATASET_BATCHES images\n",
        "# train_data_small = data_train.take(2)"
      ]
    },
    {
      "cell_type": "code",
      "execution_count": null,
      "metadata": {
        "execution": {
          "iopub.execute_input": "2022-04-20T10:51:45.663648Z",
          "iopub.status.busy": "2022-04-20T10:51:45.663405Z",
          "iopub.status.idle": "2022-04-20T10:51:45.671110Z",
          "shell.execute_reply": "2022-04-20T10:51:45.670437Z",
          "shell.execute_reply.started": "2022-04-20T10:51:45.663615Z"
        },
        "id": "MbgsnNGXdxjv",
        "trusted": true
      },
      "outputs": [],
      "source": [
        "from keras.applications.efficientnet import EfficientNetB6"
      ]
    },
    {
      "cell_type": "code",
      "execution_count": null,
      "metadata": {
        "execution": {
          "iopub.execute_input": "2022-04-20T10:51:45.672803Z",
          "iopub.status.busy": "2022-04-20T10:51:45.672527Z",
          "iopub.status.idle": "2022-04-20T10:51:46.471755Z",
          "shell.execute_reply": "2022-04-20T10:51:46.469440Z",
          "shell.execute_reply.started": "2022-04-20T10:51:45.672761Z"
        },
        "id": "w71IOoBxdxjv",
        "outputId": "fa0ba06d-2d09-4315-e0b3-e828ef17ca42",
        "trusted": true
      },
      "outputs": [],
      "source": [
        "base_model = VGG16(weights='imagenet', include_top=False,\n",
        "                            input_shape=(img_size, img_size,3))\n",
        "\n",
        "# freeze extraction layers\n",
        "base_model.trainable = False\n",
        "\n",
        "# add custom top layers\n",
        "x = base_model.output\n",
        "x = GlobalAveragePooling2D()(x)\n",
        "x = Dropout(0.2)(x)\n",
        "x = Dense(4096,activation=\"relu\")(x)\n",
        "x = Dropout(0.2)(x)\n",
        "x = Dense(4096,activation=\"relu\")(x)\n",
        "x = Dropout(0.2)(x)\n",
        "x = Dense(2096,activation=\"relu\")(x)\n",
        "x = Dropout(0.2)(x)\n",
        "x = Dense(2096,activation=\"relu\")(x)\n",
        "x = Dropout(0.4)(x)\n",
        "predictions = Dense(2, activation='softmax')(x)\n",
        "model = Model(inputs=base_model.input, outputs=predictions)\n",
        "\n",
        "# confirm unfrozen layers\n",
        "for layer in model.layers:\n",
        "    if layer.trainable==True:\n",
        "        print(layer)"
      ]
    },
    {
      "cell_type": "code",
      "execution_count": null,
      "metadata": {
        "execution": {
          "iopub.execute_input": "2022-04-20T10:51:46.473226Z",
          "iopub.status.busy": "2022-04-20T10:51:46.472986Z",
          "iopub.status.idle": "2022-04-20T10:51:46.477315Z",
          "shell.execute_reply": "2022-04-20T10:51:46.476446Z",
          "shell.execute_reply.started": "2022-04-20T10:51:46.473193Z"
        },
        "id": "v7vS_Qhadxjv",
        "trusted": true
      },
      "outputs": [],
      "source": [
        "# model.summary()"
      ]
    },
    {
      "cell_type": "code",
      "execution_count": null,
      "metadata": {
        "execution": {
          "iopub.execute_input": "2022-04-20T10:51:46.479475Z",
          "iopub.status.busy": "2022-04-20T10:51:46.478572Z",
          "iopub.status.idle": "2022-04-20T10:51:47.393751Z",
          "shell.execute_reply": "2022-04-20T10:51:47.392645Z",
          "shell.execute_reply.started": "2022-04-20T10:51:46.479440Z"
        },
        "id": "UZtT-xK4dxjv",
        "outputId": "fddaec56-97d4-4859-854a-2a10de1e7d37",
        "trusted": true
      },
      "outputs": [],
      "source": [
        "from tensorflow.keras.utils import plot_model\n",
        "from IPython.display import Image\n",
        "plot_model(model, to_file='convnet.png', show_shapes=True,show_layer_names=True)\n",
        "Image(filename='convnet.png')"
      ]
    },
    {
      "cell_type": "markdown",
      "metadata": {
        "id": "TAx2lRIodxjv"
      },
      "source": [
        "### Callback to continually monitor the validation loss and stop the training of model when it overfits"
      ]
    },
    {
      "cell_type": "code",
      "execution_count": null,
      "metadata": {
        "execution": {
          "iopub.execute_input": "2022-04-20T10:51:47.396130Z",
          "iopub.status.busy": "2022-04-20T10:51:47.395633Z",
          "iopub.status.idle": "2022-04-20T10:51:47.400571Z",
          "shell.execute_reply": "2022-04-20T10:51:47.399902Z",
          "shell.execute_reply.started": "2022-04-20T10:51:47.396085Z"
        },
        "id": "UP6I59Fgdxjw",
        "trusted": true
      },
      "outputs": [],
      "source": [
        "callbacks = [EarlyStopping(monitor='val_loss', patience=5, verbose=1),\n",
        "                ModelCheckpoint('model.hdf5',\n",
        "                                 save_best_only=True)]"
      ]
    },
    {
      "cell_type": "code",
      "execution_count": null,
      "metadata": {
        "execution": {
          "iopub.execute_input": "2022-04-20T10:51:47.402309Z",
          "iopub.status.busy": "2022-04-20T10:51:47.401837Z",
          "iopub.status.idle": "2022-04-20T10:51:47.425444Z",
          "shell.execute_reply": "2022-04-20T10:51:47.424636Z",
          "shell.execute_reply.started": "2022-04-20T10:51:47.402261Z"
        },
        "id": "ZV7DlFa4dxjw",
        "trusted": true
      },
      "outputs": [],
      "source": [
        "opt = Adam(learning_rate=0.0001)\n",
        "model.compile(\n",
        "  loss='categorical_crossentropy',\n",
        "  optimizer=opt,\n",
        "  metrics=['accuracy']\n",
        ")"
      ]
    },
    {
      "cell_type": "markdown",
      "metadata": {
        "id": "gPeaR5e-dxjw"
      },
      "source": [
        "### Reason for 50 epochs is that if the model begins to overfit or the validation loss does not decrease much then callback will automatically stop the training"
      ]
    },
    {
      "cell_type": "code",
      "execution_count": null,
      "metadata": {
        "execution": {
          "iopub.execute_input": "2022-04-20T10:51:47.428295Z",
          "iopub.status.busy": "2022-04-20T10:51:47.428109Z",
          "iopub.status.idle": "2022-04-20T11:06:06.774149Z",
          "shell.execute_reply": "2022-04-20T11:06:06.773491Z",
          "shell.execute_reply.started": "2022-04-20T10:51:47.428267Z"
        },
        "id": "h97zAA6Idxjx",
        "outputId": "007cc07b-e062-4b6d-837c-de84ed09081c",
        "trusted": true
      },
      "outputs": [],
      "source": [
        "history=model.fit(data_train,\n",
        "                  epochs=50,\n",
        "                  validation_data=data_test,\n",
        "                  validation_steps=int(0.1 * len(data_test)),\n",
        "                  verbose=1,\n",
        "                  callbacks=callbacks)"
      ]
    },
    {
      "cell_type": "code",
      "execution_count": null,
      "metadata": {
        "execution": {
          "iopub.execute_input": "2022-04-20T11:06:06.776856Z",
          "iopub.status.busy": "2022-04-20T11:06:06.776624Z",
          "iopub.status.idle": "2022-04-20T11:06:06.780724Z",
          "shell.execute_reply": "2022-04-20T11:06:06.779881Z",
          "shell.execute_reply.started": "2022-04-20T11:06:06.776827Z"
        },
        "id": "70RhHmn7dxjx",
        "trusted": true
      },
      "outputs": [],
      "source": [
        "# history = model.fit(train_generator,\n",
        "#                     epochs = 50,\n",
        "#                     validation_data = val_generator,\n",
        "#                     verbose = 1,\n",
        "#                    callbacks=callbacks)"
      ]
    },
    {
      "cell_type": "code",
      "execution_count": null,
      "metadata": {
        "execution": {
          "iopub.execute_input": "2022-04-20T11:06:06.782532Z",
          "iopub.status.busy": "2022-04-20T11:06:06.782260Z",
          "iopub.status.idle": "2022-04-20T11:06:06.791278Z",
          "shell.execute_reply": "2022-04-20T11:06:06.790586Z",
          "shell.execute_reply.started": "2022-04-20T11:06:06.782498Z"
        },
        "id": "DqgbcRbedxjx",
        "trusted": true
      },
      "outputs": [],
      "source": [
        "from tensorflow.keras.models import load_model"
      ]
    },
    {
      "cell_type": "markdown",
      "metadata": {
        "id": "cN2QnBmldxjx"
      },
      "source": [
        "### Loading Best Model Saved during Callback"
      ]
    },
    {
      "cell_type": "code",
      "execution_count": null,
      "metadata": {
        "execution": {
          "iopub.execute_input": "2022-04-20T11:06:06.794212Z",
          "iopub.status.busy": "2022-04-20T11:06:06.794028Z",
          "iopub.status.idle": "2022-04-20T11:06:07.859776Z",
          "shell.execute_reply": "2022-04-20T11:06:07.859013Z",
          "shell.execute_reply.started": "2022-04-20T11:06:06.794190Z"
        },
        "id": "eAglrY3Qdxjx",
        "trusted": true
      },
      "outputs": [],
      "source": [
        "model = load_model('./model.hdf5')"
      ]
    },
    {
      "cell_type": "code",
      "execution_count": null,
      "metadata": {
        "execution": {
          "iopub.execute_input": "2022-04-20T11:06:07.861353Z",
          "iopub.status.busy": "2022-04-20T11:06:07.861094Z",
          "iopub.status.idle": "2022-04-20T11:06:07.868245Z",
          "shell.execute_reply": "2022-04-20T11:06:07.867348Z",
          "shell.execute_reply.started": "2022-04-20T11:06:07.861320Z"
        },
        "id": "J6MxI0PEdxjx",
        "trusted": true
      },
      "outputs": [],
      "source": [
        "def learning_curve(model_fit, key='accuracy', ylim=(0, 1.01)):\n",
        "    plt.figure(figsize=(12,6))\n",
        "    plt.plot(model_fit.history[key])\n",
        "    plt.plot(model_fit.history['val_' + key])\n",
        "    plt.title('Learning Curve')\n",
        "    plt.ylabel(key.title())\n",
        "    plt.xlabel('Epoch')\n",
        "    plt.ylim(ylim)\n",
        "    plt.legend(['train', 'val'], loc='best')\n",
        "    plt.show()"
      ]
    },
    {
      "cell_type": "code",
      "execution_count": null,
      "metadata": {
        "execution": {
          "iopub.execute_input": "2022-04-20T11:06:07.873300Z",
          "iopub.status.busy": "2022-04-20T11:06:07.872845Z",
          "iopub.status.idle": "2022-04-20T11:06:08.247961Z",
          "shell.execute_reply": "2022-04-20T11:06:08.247224Z",
          "shell.execute_reply.started": "2022-04-20T11:06:07.873262Z"
        },
        "id": "DesJhO4ddxjy",
        "outputId": "848770a4-681d-46d8-c4a4-f4db0289cab7",
        "trusted": true
      },
      "outputs": [],
      "source": [
        "learning_curve(history,'loss', ylim=(0,1))\n",
        "learning_curve(history, 'accuracy', ylim=(0,1))"
      ]
    },
    {
      "cell_type": "code",
      "execution_count": null,
      "metadata": {
        "execution": {
          "iopub.execute_input": "2022-04-20T11:06:08.249359Z",
          "iopub.status.busy": "2022-04-20T11:06:08.249116Z",
          "iopub.status.idle": "2022-04-20T11:06:28.911163Z",
          "shell.execute_reply": "2022-04-20T11:06:28.910408Z",
          "shell.execute_reply.started": "2022-04-20T11:06:08.249326Z"
        },
        "id": "hbTj3_Tddxjy",
        "outputId": "f80969c9-b839-42f1-8b05-b7e480412c8a",
        "trusted": true
      },
      "outputs": [
        {
          "name": "stdout",
          "output_type": "stream",
          "text": [
            "14/14 [==============================] - 12s 759ms/step - loss: 0.0696 - accuracy: 0.9814\n",
            "Loss: 0.070\n",
            "Accuracy: 98.135\n"
          ]
        }
      ],
      "source": [
        "test_loss, test_acc = model.evaluate(data_test, steps=len(data_test), verbose=1)\n",
        "print('Loss: %.3f' % (test_loss))\n",
        "print('Accuracy: %.3f' % (test_acc * 100.0))"
      ]
    },
    {
      "cell_type": "code",
      "execution_count": null,
      "metadata": {
        "execution": {
          "iopub.execute_input": "2022-04-20T11:06:28.912939Z",
          "iopub.status.busy": "2022-04-20T11:06:28.912217Z",
          "iopub.status.idle": "2022-04-20T11:06:38.444266Z",
          "shell.execute_reply": "2022-04-20T11:06:38.443499Z",
          "shell.execute_reply.started": "2022-04-20T11:06:28.912906Z"
        },
        "id": "Te09rGGwdxjy",
        "trusted": true
      },
      "outputs": [],
      "source": [
        "predictions = np.array([])\n",
        "labels =  np.array([])\n",
        "for x, y in data_test:\n",
        "    predictions = np.concatenate([predictions, np.argmax(model.predict(x),axis=1)])\n",
        "    labels = np.concatenate([labels, np.argmax(y.numpy(), axis=-1)])"
      ]
    },
    {
      "cell_type": "code",
      "execution_count": null,
      "metadata": {
        "execution": {
          "iopub.execute_input": "2022-04-20T11:06:38.446027Z",
          "iopub.status.busy": "2022-04-20T11:06:38.445773Z",
          "iopub.status.idle": "2022-04-20T11:06:38.452185Z",
          "shell.execute_reply": "2022-04-20T11:06:38.451516Z",
          "shell.execute_reply.started": "2022-04-20T11:06:38.445992Z"
        },
        "id": "K9eV5c__dxjy",
        "outputId": "a4adee96-f2c9-472b-f1a9-10e1c76cbf1b",
        "trusted": true
      },
      "outputs": [],
      "source": [
        "classes = []\n",
        "for i in os.listdir(train_path):\n",
        "    classes+=[i]\n",
        "\n",
        "classes"
      ]
    },
    {
      "cell_type": "code",
      "execution_count": null,
      "metadata": {
        "execution": {
          "iopub.execute_input": "2022-04-20T11:06:38.453903Z",
          "iopub.status.busy": "2022-04-20T11:06:38.453492Z",
          "iopub.status.idle": "2022-04-20T11:06:38.462938Z",
          "shell.execute_reply": "2022-04-20T11:06:38.462179Z",
          "shell.execute_reply.started": "2022-04-20T11:06:38.453867Z"
        },
        "id": "_9O7qIWidxjy",
        "trusted": true
      },
      "outputs": [],
      "source": [
        "def fbeta(y_true, y_pred, threshold_shift=0):\n",
        "    beta_squared = 4\n",
        "\n",
        "    y_pred = K.clip(y_pred, 0, 1)\n",
        "\n",
        "    y_pred_bin = K.round(y_pred + threshold_shift)\n",
        "\n",
        "    tp = K.sum(K.round(y_true * y_pred_bin)) + K.epsilon()\n",
        "    fp = K.sum(K.round(K.clip(y_pred_bin - y_true, 0, 1)))\n",
        "    fn = K.sum(K.round(K.clip(y_true - y_pred, 0, 1)))\n",
        "\n",
        "    precision = tp / (tp + fp)\n",
        "    recall = tp / (tp + fn)\n",
        "\n",
        "    return (beta_squared + 1) * (precision * recall) / (beta_squared * precision + recall + K.epsilon())"
      ]
    },
    {
      "cell_type": "code",
      "execution_count": null,
      "metadata": {
        "execution": {
          "iopub.execute_input": "2022-04-20T11:06:38.464804Z",
          "iopub.status.busy": "2022-04-20T11:06:38.464297Z",
          "iopub.status.idle": "2022-04-20T11:06:38.471981Z",
          "shell.execute_reply": "2022-04-20T11:06:38.471273Z",
          "shell.execute_reply.started": "2022-04-20T11:06:38.464761Z"
        },
        "id": "gSfa1hc4dxjz",
        "trusted": true
      },
      "outputs": [],
      "source": [
        "def confusion_matrix_plot(matrix):\n",
        "    plt.figure(figsize=(12,10))\n",
        "    cmap = \"YlGnBu\"\n",
        "    ax= plt.subplot()\n",
        "    sns.heatmap(matrix, annot=True, fmt='g', ax=ax, cmap=cmap);  #annot=True to annotate cells, ftm='g' to disable scientific notation\n",
        "    plt.savefig('/kaggle/working/img1.png')\n",
        "    # labels, title and ticks\n",
        "    ax.set_xlabel('Predicted labels');\n",
        "    ax.set_ylabel('True labels');\n",
        "    ax.set_title('Confusion Matrix');\n",
        "    ax.xaxis.set_ticklabels(classes);\n",
        "    ax.yaxis.set_ticklabels(classes[::-1]);\n",
        "    plt.show()"
      ]
    },
    {
      "cell_type": "code",
      "execution_count": null,
      "metadata": {
        "execution": {
          "iopub.execute_input": "2022-04-20T11:06:38.473751Z",
          "iopub.status.busy": "2022-04-20T11:06:38.473302Z",
          "iopub.status.idle": "2022-04-20T11:06:38.481048Z",
          "shell.execute_reply": "2022-04-20T11:06:38.480232Z",
          "shell.execute_reply.started": "2022-04-20T11:06:38.473708Z"
        },
        "id": "iQTBHqO-dxjz",
        "trusted": true
      },
      "outputs": [],
      "source": [
        "def cal_score(model, key):\n",
        "    matrix = confusion_matrix(predictions, labels)\n",
        "    print(matrix)\n",
        "    print('\\n')\n",
        "\n",
        "    f1 = f1_score(predictions, labels, average='weighted')\n",
        "    print(f'F1 Score: {f1}')\n",
        "    print('\\n')\n",
        "\n",
        "    print(classification_report(predictions, labels, target_names=classes))\n",
        "\n",
        "    if key==1:\n",
        "        confusion_matrix_plot(matrix)"
      ]
    },
    {
      "cell_type": "code",
      "execution_count": null,
      "metadata": {
        "execution": {
          "iopub.execute_input": "2022-04-20T11:06:38.483898Z",
          "iopub.status.busy": "2022-04-20T11:06:38.483338Z",
          "iopub.status.idle": "2022-04-20T11:06:38.823974Z",
          "shell.execute_reply": "2022-04-20T11:06:38.823235Z",
          "shell.execute_reply.started": "2022-04-20T11:06:38.483861Z"
        },
        "id": "NXiO_SSqdxjz",
        "outputId": "67eacbfa-abdd-4416-9140-5737e27fea4c",
        "trusted": true
      },
      "outputs": [],
      "source": [
        "cal_score(model, 1)"
      ]
    },
    {
      "cell_type": "code",
      "execution_count": null,
      "metadata": {
        "execution": {
          "iopub.execute_input": "2022-04-20T11:06:38.825930Z",
          "iopub.status.busy": "2022-04-20T11:06:38.825454Z",
          "iopub.status.idle": "2022-04-20T11:06:38.830133Z",
          "shell.execute_reply": "2022-04-20T11:06:38.829293Z",
          "shell.execute_reply.started": "2022-04-20T11:06:38.825889Z"
        },
        "id": "dEDmm7pddxjz",
        "trusted": true
      },
      "outputs": [],
      "source": [
        "# test_loss, test_acc = model.evaluate(test_generator, steps=len(test_generator), verbose=1)\n",
        "# print('Loss: %.3f' % (test_loss * 100.0))\n",
        "# print('Accuracy: %.3f' % (test_acc * 100.0))"
      ]
    }
  ],
  "metadata": {
    "colab": {
      "provenance": []
    },
    "kernelspec": {
      "display_name": "Python 3",
      "language": "python",
      "name": "python3"
    },
    "language_info": {
      "codemirror_mode": {
        "name": "ipython",
        "version": 3
      },
      "file_extension": ".py",
      "mimetype": "text/x-python",
      "name": "python",
      "nbconvert_exporter": "python",
      "pygments_lexer": "ipython3",
      "version": "3.7.12"
    }
  },
  "nbformat": 4,
  "nbformat_minor": 0
}
